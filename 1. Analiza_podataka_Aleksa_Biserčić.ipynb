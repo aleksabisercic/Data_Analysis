{
 "cells": [
  {
   "cell_type": "markdown",
   "metadata": {},
   "source": [
    "# Analiza podataka projekata i operatera za dan 3-3-2020\n",
    "\n",
    "## Sažetak  \n",
    "\n",
    "- Cilj analize je da iz dostavljenih podataka možemo da kvantifikujemo rad operatera, pratimo ih, kao i projekte, alate i taskove na kojima rade.\n",
    "- Glavni alati koji su se koristili prilikom obrade podataka su Paython, Regular expressions, SQL"
   ]
  },
  {
   "cell_type": "markdown",
   "metadata": {},
   "source": [
    "## Početno prolaženje kroz dobijeni dataset\n",
    "\n",
    "-  Dobijeni podatci su u formi JSON i simbolično su prikazani na slici ispod \n",
    "![alt text](Slike/Json_1.PNG)\n",
    "<i><center>Slika 1. Iznad prikazano uzorak dobijenih podataka</center> </i>\n",
    "- Informacije direktno o radniku: vreme rada na tasku i task kojim se bavi, tasks__email\n",
    "- Informacije direktno o projektu: 'operator', 'spins', 'rooms', floors', 'furniture', 'projectName','status', 'livableArea', 'area', 'photoCaptures', 'videoCapture'\n",
    "\n",
    "### Limitacije dataseta\n",
    "\n",
    "- Glavna limitacija podataka je što nema puno podatke za operatere (Koliko je vremena rađen task i koji je task rađen su jedine informacije vezane direktno njih) ali se neke informacije mogu indirektno zaključiti preko projekta\n",
    "- Takođe kako se dešava da više operatora radi na istom tasku,limitacija je što nema koliko je prvi operater uradio dok nije drugi operater preuzeo taj posao (da bi se bolje kvantifikovao rad)\n",
    "- Još jedna mana je zbog veličine dataseta, statistike za dužine završenih projekata neće biti precizna kako mnogi projekti prelaze iz prethodnog dana \n",
    "![alt text](Slike/Json_.PNG)\n",
    "<i><center>Slika 2. Iznad prikazano kako je projekat gotov a u tom danu se radio samo QA, ovaj problem je lako rešiv sa celokupnim skupom podataka</center> </i>\n",
    "\n",
    "### Dodatnie informacije\n",
    "- JSON je jako sličan dictionery-u ali sam se ja opredelio za rad sa tabularnim podatcima kako mnogo efikasnije mogu da koristim te alate\n"
   ]
  },
  {
   "cell_type": "code",
   "execution_count": 515,
   "metadata": {},
   "outputs": [],
   "source": [
    "import numpy as np \n",
    "import pandas as pd \n",
    "import json \n",
    "import matplotlib.pyplot as plt\n",
    "from datetime import datetime, date\n",
    "import seaborn as sns\n",
    "from pandas.plotting import register_matplotlib_converters\n",
    "from pylab import rcParams\n",
    "\n",
    "#plotting settings\n",
    "sns.set(style='whitegrid', palette='muted', font_scale=1.2)\n",
    "HAPPY_COLORS_PALETTE = [\"#01BEFE\", \"#FFDD00\", \"#FF7D00\", \"#FF006D\", \"#93D30C\", \"#8F00FF\"]\n",
    "sns.set_palette(sns.color_palette(HAPPY_COLORS_PALETTE))\n",
    "rcParams['figure.figsize'] = 14, 10\n",
    "register_matplotlib_converters()"
   ]
  },
  {
   "cell_type": "code",
   "execution_count": 518,
   "metadata": {},
   "outputs": [
    {
     "data": {
      "text/html": [
       "<div>\n",
       "<style scoped>\n",
       "    .dataframe tbody tr th:only-of-type {\n",
       "        vertical-align: middle;\n",
       "    }\n",
       "\n",
       "    .dataframe tbody tr th {\n",
       "        vertical-align: top;\n",
       "    }\n",
       "\n",
       "    .dataframe thead th {\n",
       "        text-align: right;\n",
       "    }\n",
       "</style>\n",
       "<table border=\"1\" class=\"dataframe\">\n",
       "  <thead>\n",
       "    <tr style=\"text-align: right;\">\n",
       "      <th></th>\n",
       "      <th>_id</th>\n",
       "      <th>tasks__operator</th>\n",
       "      <th>tasks__task__type</th>\n",
       "      <th>tasks__task__name</th>\n",
       "      <th>tasks__started</th>\n",
       "      <th>tasks__finished</th>\n",
       "      <th>tasks__email</th>\n",
       "      <th>spins</th>\n",
       "      <th>rooms</th>\n",
       "      <th>floors</th>\n",
       "      <th>...</th>\n",
       "      <th>projectName</th>\n",
       "      <th>orgId</th>\n",
       "      <th>status</th>\n",
       "      <th>livableArea</th>\n",
       "      <th>area</th>\n",
       "      <th>photoCaptures</th>\n",
       "      <th>videoCapture</th>\n",
       "      <th>tasks__task__mandatory</th>\n",
       "      <th>tasks__task__optional</th>\n",
       "      <th>tasks__task__undefined</th>\n",
       "    </tr>\n",
       "  </thead>\n",
       "  <tbody>\n",
       "    <tr>\n",
       "      <th>0</th>\n",
       "      <td>jYvKmEqWDL</td>\n",
       "      <td>oce0ogRYlB</td>\n",
       "      <td>qa</td>\n",
       "      <td>QA</td>\n",
       "      <td>17:16:00</td>\n",
       "      <td>19:02:00</td>\n",
       "      <td>israk.civil@gmail.com</td>\n",
       "      <td>112.0</td>\n",
       "      <td>30.0</td>\n",
       "      <td>2.0</td>\n",
       "      <td>...</td>\n",
       "      <td>90748140</td>\n",
       "      <td>6lEeqxPoh6</td>\n",
       "      <td>finished</td>\n",
       "      <td>5.390015e+06</td>\n",
       "      <td>5.731908e+06</td>\n",
       "      <td>0.0</td>\n",
       "      <td>0.0</td>\n",
       "      <td>NaN</td>\n",
       "      <td>NaN</td>\n",
       "      <td>NaN</td>\n",
       "    </tr>\n",
       "    <tr>\n",
       "      <th>1</th>\n",
       "      <td>NaN</td>\n",
       "      <td>oce0ogRYlB</td>\n",
       "      <td>qa</td>\n",
       "      <td>QA</td>\n",
       "      <td>19:40:00</td>\n",
       "      <td>20:42:00</td>\n",
       "      <td>israk.civil@gmail.com</td>\n",
       "      <td>NaN</td>\n",
       "      <td>NaN</td>\n",
       "      <td>NaN</td>\n",
       "      <td>...</td>\n",
       "      <td>NaN</td>\n",
       "      <td>NaN</td>\n",
       "      <td>NaN</td>\n",
       "      <td>NaN</td>\n",
       "      <td>NaN</td>\n",
       "      <td>NaN</td>\n",
       "      <td>NaN</td>\n",
       "      <td>NaN</td>\n",
       "      <td>NaN</td>\n",
       "      <td>NaN</td>\n",
       "    </tr>\n",
       "    <tr>\n",
       "      <th>2</th>\n",
       "      <td>OQhgIhyhlu</td>\n",
       "      <td>FcyNpCCzIV</td>\n",
       "      <td>assessment</td>\n",
       "      <td>Assessment</td>\n",
       "      <td>00:09:00</td>\n",
       "      <td>00:11:00</td>\n",
       "      <td>nantoroy.vcube@gmail.com</td>\n",
       "      <td>25.0</td>\n",
       "      <td>13.0</td>\n",
       "      <td>1.0</td>\n",
       "      <td>...</td>\n",
       "      <td>50110807 - 8425 Mission Hills Road - Rent Ready</td>\n",
       "      <td>9VN3tg87UF</td>\n",
       "      <td>operator_assigned</td>\n",
       "      <td>1.623662e+06</td>\n",
       "      <td>1.623662e+06</td>\n",
       "      <td>11.0</td>\n",
       "      <td>0.0</td>\n",
       "      <td>NaN</td>\n",
       "      <td>NaN</td>\n",
       "      <td>NaN</td>\n",
       "    </tr>\n",
       "    <tr>\n",
       "      <th>3</th>\n",
       "      <td>NaN</td>\n",
       "      <td>nlKGPsVh8E</td>\n",
       "      <td>floor_f1Ce8foK9H</td>\n",
       "      <td>Ground Floor</td>\n",
       "      <td>00:12:00</td>\n",
       "      <td>01:24:00</td>\n",
       "      <td>samiul.vcube@gmail.com</td>\n",
       "      <td>NaN</td>\n",
       "      <td>NaN</td>\n",
       "      <td>NaN</td>\n",
       "      <td>...</td>\n",
       "      <td>NaN</td>\n",
       "      <td>NaN</td>\n",
       "      <td>NaN</td>\n",
       "      <td>NaN</td>\n",
       "      <td>NaN</td>\n",
       "      <td>NaN</td>\n",
       "      <td>NaN</td>\n",
       "      <td>1.0</td>\n",
       "      <td>NaN</td>\n",
       "      <td>NaN</td>\n",
       "    </tr>\n",
       "    <tr>\n",
       "      <th>4</th>\n",
       "      <td>L8pNYn8iDx</td>\n",
       "      <td>rTHP2F3fHt</td>\n",
       "      <td>floor_fxLFcpECDh</td>\n",
       "      <td>Ground Floor</td>\n",
       "      <td>00:18:00</td>\n",
       "      <td>01:15:00</td>\n",
       "      <td>hasan.vcube@gmail.com</td>\n",
       "      <td>22.0</td>\n",
       "      <td>14.0</td>\n",
       "      <td>1.0</td>\n",
       "      <td>...</td>\n",
       "      <td>10700290 - 9822 Vandenberg Way San Antonio Tex...</td>\n",
       "      <td>kZe5Ded0pa</td>\n",
       "      <td>ready_for_operator_qa</td>\n",
       "      <td>1.346923e+06</td>\n",
       "      <td>1.725780e+06</td>\n",
       "      <td>13.0</td>\n",
       "      <td>0.0</td>\n",
       "      <td>1.0</td>\n",
       "      <td>NaN</td>\n",
       "      <td>NaN</td>\n",
       "    </tr>\n",
       "  </tbody>\n",
       "</table>\n",
       "<p>5 rows × 21 columns</p>\n",
       "</div>"
      ],
      "text/plain": [
       "          _id tasks__operator tasks__task__type tasks__task__name  \\\n",
       "0  jYvKmEqWDL      oce0ogRYlB                qa                QA   \n",
       "1         NaN      oce0ogRYlB                qa                QA   \n",
       "2  OQhgIhyhlu      FcyNpCCzIV        assessment        Assessment   \n",
       "3         NaN      nlKGPsVh8E  floor_f1Ce8foK9H      Ground Floor   \n",
       "4  L8pNYn8iDx      rTHP2F3fHt  floor_fxLFcpECDh      Ground Floor   \n",
       "\n",
       "  tasks__started tasks__finished              tasks__email  spins  rooms  \\\n",
       "0       17:16:00        19:02:00     israk.civil@gmail.com  112.0   30.0   \n",
       "1       19:40:00        20:42:00     israk.civil@gmail.com    NaN    NaN   \n",
       "2       00:09:00        00:11:00  nantoroy.vcube@gmail.com   25.0   13.0   \n",
       "3       00:12:00        01:24:00    samiul.vcube@gmail.com    NaN    NaN   \n",
       "4       00:18:00        01:15:00     hasan.vcube@gmail.com   22.0   14.0   \n",
       "\n",
       "   floors  ...                                        projectName       orgId  \\\n",
       "0     2.0  ...                                           90748140  6lEeqxPoh6   \n",
       "1     NaN  ...                                                NaN         NaN   \n",
       "2     1.0  ...    50110807 - 8425 Mission Hills Road - Rent Ready  9VN3tg87UF   \n",
       "3     NaN  ...                                                NaN         NaN   \n",
       "4     1.0  ...  10700290 - 9822 Vandenberg Way San Antonio Tex...  kZe5Ded0pa   \n",
       "\n",
       "                  status   livableArea          area  photoCaptures  \\\n",
       "0               finished  5.390015e+06  5.731908e+06            0.0   \n",
       "1                    NaN           NaN           NaN            NaN   \n",
       "2      operator_assigned  1.623662e+06  1.623662e+06           11.0   \n",
       "3                    NaN           NaN           NaN            NaN   \n",
       "4  ready_for_operator_qa  1.346923e+06  1.725780e+06           13.0   \n",
       "\n",
       "   videoCapture  tasks__task__mandatory  tasks__task__optional  \\\n",
       "0           0.0                     NaN                    NaN   \n",
       "1           NaN                     NaN                    NaN   \n",
       "2           0.0                     NaN                    NaN   \n",
       "3           NaN                     1.0                    NaN   \n",
       "4           0.0                     1.0                    NaN   \n",
       "\n",
       "   tasks__task__undefined  \n",
       "0                     NaN  \n",
       "1                     NaN  \n",
       "2                     NaN  \n",
       "3                     NaN  \n",
       "4                     NaN  \n",
       "\n",
       "[5 rows x 21 columns]"
      ]
     },
     "execution_count": 518,
     "metadata": {},
     "output_type": "execute_result"
    }
   ],
   "source": [
    "#Pre rada:\n",
    "#Sa RegEx (u PyCharmu) prebacio sam 'ISO time' u format 'datetime' koji python prepoznaje \n",
    "#Prebacio json u excel\n",
    "\n",
    "df = pd.read_excel('Data/0. DF_JSON.xlsx')#load dataset (prebaceni json u excel)\n",
    "df.head()"
   ]
  },
  {
   "cell_type": "code",
   "execution_count": 519,
   "metadata": {},
   "outputs": [
    {
     "data": {
      "text/html": [
       "<div>\n",
       "<style scoped>\n",
       "    .dataframe tbody tr th:only-of-type {\n",
       "        vertical-align: middle;\n",
       "    }\n",
       "\n",
       "    .dataframe tbody tr th {\n",
       "        vertical-align: top;\n",
       "    }\n",
       "\n",
       "    .dataframe thead th {\n",
       "        text-align: right;\n",
       "    }\n",
       "</style>\n",
       "<table border=\"1\" class=\"dataframe\">\n",
       "  <thead>\n",
       "    <tr style=\"text-align: right;\">\n",
       "      <th></th>\n",
       "      <th>_id</th>\n",
       "      <th>tasks__operator</th>\n",
       "      <th>tasks__task__type</th>\n",
       "      <th>tasks__task__name</th>\n",
       "      <th>tasks__started</th>\n",
       "      <th>tasks__finished</th>\n",
       "      <th>tasks__email</th>\n",
       "      <th>spins</th>\n",
       "      <th>rooms</th>\n",
       "      <th>floors</th>\n",
       "      <th>...</th>\n",
       "      <th>orgId</th>\n",
       "      <th>status</th>\n",
       "      <th>livableArea</th>\n",
       "      <th>area</th>\n",
       "      <th>photoCaptures</th>\n",
       "      <th>videoCapture</th>\n",
       "      <th>tasks__task__mandatory</th>\n",
       "      <th>tasks__task__optional</th>\n",
       "      <th>tasks__task__undefined</th>\n",
       "      <th>work_time</th>\n",
       "    </tr>\n",
       "  </thead>\n",
       "  <tbody>\n",
       "    <tr>\n",
       "      <th>0</th>\n",
       "      <td>jYvKmEqWDL</td>\n",
       "      <td>oce0ogRYlB</td>\n",
       "      <td>qa</td>\n",
       "      <td>QA</td>\n",
       "      <td>17:16:00</td>\n",
       "      <td>19:02:00</td>\n",
       "      <td>israk.civil@gmail.com</td>\n",
       "      <td>112.0</td>\n",
       "      <td>30.0</td>\n",
       "      <td>2.0</td>\n",
       "      <td>...</td>\n",
       "      <td>6lEeqxPoh6</td>\n",
       "      <td>finished</td>\n",
       "      <td>5.390015e+06</td>\n",
       "      <td>5.731908e+06</td>\n",
       "      <td>0.0</td>\n",
       "      <td>0.0</td>\n",
       "      <td>NaN</td>\n",
       "      <td>NaN</td>\n",
       "      <td>NaN</td>\n",
       "      <td>6360</td>\n",
       "    </tr>\n",
       "    <tr>\n",
       "      <th>1</th>\n",
       "      <td>jYvKmEqWDL</td>\n",
       "      <td>oce0ogRYlB</td>\n",
       "      <td>qa</td>\n",
       "      <td>QA</td>\n",
       "      <td>19:40:00</td>\n",
       "      <td>20:42:00</td>\n",
       "      <td>israk.civil@gmail.com</td>\n",
       "      <td>112.0</td>\n",
       "      <td>30.0</td>\n",
       "      <td>2.0</td>\n",
       "      <td>...</td>\n",
       "      <td>NaN</td>\n",
       "      <td>finished</td>\n",
       "      <td>5.390015e+06</td>\n",
       "      <td>5.731908e+06</td>\n",
       "      <td>0.0</td>\n",
       "      <td>0.0</td>\n",
       "      <td>NaN</td>\n",
       "      <td>NaN</td>\n",
       "      <td>NaN</td>\n",
       "      <td>3720</td>\n",
       "    </tr>\n",
       "    <tr>\n",
       "      <th>2</th>\n",
       "      <td>OQhgIhyhlu</td>\n",
       "      <td>FcyNpCCzIV</td>\n",
       "      <td>assessment</td>\n",
       "      <td>Assessment</td>\n",
       "      <td>00:09:00</td>\n",
       "      <td>00:11:00</td>\n",
       "      <td>nantoroy.vcube@gmail.com</td>\n",
       "      <td>25.0</td>\n",
       "      <td>13.0</td>\n",
       "      <td>1.0</td>\n",
       "      <td>...</td>\n",
       "      <td>9VN3tg87UF</td>\n",
       "      <td>operator_assigned</td>\n",
       "      <td>1.623662e+06</td>\n",
       "      <td>1.623662e+06</td>\n",
       "      <td>11.0</td>\n",
       "      <td>0.0</td>\n",
       "      <td>NaN</td>\n",
       "      <td>NaN</td>\n",
       "      <td>NaN</td>\n",
       "      <td>120</td>\n",
       "    </tr>\n",
       "    <tr>\n",
       "      <th>3</th>\n",
       "      <td>OQhgIhyhlu</td>\n",
       "      <td>nlKGPsVh8E</td>\n",
       "      <td>floor_f1Ce8foK9H</td>\n",
       "      <td>Ground Floor</td>\n",
       "      <td>00:12:00</td>\n",
       "      <td>01:24:00</td>\n",
       "      <td>samiul.vcube@gmail.com</td>\n",
       "      <td>25.0</td>\n",
       "      <td>13.0</td>\n",
       "      <td>1.0</td>\n",
       "      <td>...</td>\n",
       "      <td>NaN</td>\n",
       "      <td>operator_assigned</td>\n",
       "      <td>1.623662e+06</td>\n",
       "      <td>1.623662e+06</td>\n",
       "      <td>11.0</td>\n",
       "      <td>0.0</td>\n",
       "      <td>1.0</td>\n",
       "      <td>NaN</td>\n",
       "      <td>NaN</td>\n",
       "      <td>4320</td>\n",
       "    </tr>\n",
       "    <tr>\n",
       "      <th>4</th>\n",
       "      <td>L8pNYn8iDx</td>\n",
       "      <td>rTHP2F3fHt</td>\n",
       "      <td>floor_fxLFcpECDh</td>\n",
       "      <td>Ground Floor</td>\n",
       "      <td>00:18:00</td>\n",
       "      <td>01:15:00</td>\n",
       "      <td>hasan.vcube@gmail.com</td>\n",
       "      <td>22.0</td>\n",
       "      <td>14.0</td>\n",
       "      <td>1.0</td>\n",
       "      <td>...</td>\n",
       "      <td>kZe5Ded0pa</td>\n",
       "      <td>ready_for_operator_qa</td>\n",
       "      <td>1.346923e+06</td>\n",
       "      <td>1.725780e+06</td>\n",
       "      <td>13.0</td>\n",
       "      <td>0.0</td>\n",
       "      <td>1.0</td>\n",
       "      <td>NaN</td>\n",
       "      <td>NaN</td>\n",
       "      <td>3420</td>\n",
       "    </tr>\n",
       "  </tbody>\n",
       "</table>\n",
       "<p>5 rows × 22 columns</p>\n",
       "</div>"
      ],
      "text/plain": [
       "          _id tasks__operator tasks__task__type tasks__task__name  \\\n",
       "0  jYvKmEqWDL      oce0ogRYlB                qa                QA   \n",
       "1  jYvKmEqWDL      oce0ogRYlB                qa                QA   \n",
       "2  OQhgIhyhlu      FcyNpCCzIV        assessment        Assessment   \n",
       "3  OQhgIhyhlu      nlKGPsVh8E  floor_f1Ce8foK9H      Ground Floor   \n",
       "4  L8pNYn8iDx      rTHP2F3fHt  floor_fxLFcpECDh      Ground Floor   \n",
       "\n",
       "  tasks__started tasks__finished              tasks__email  spins  rooms  \\\n",
       "0       17:16:00        19:02:00     israk.civil@gmail.com  112.0   30.0   \n",
       "1       19:40:00        20:42:00     israk.civil@gmail.com  112.0   30.0   \n",
       "2       00:09:00        00:11:00  nantoroy.vcube@gmail.com   25.0   13.0   \n",
       "3       00:12:00        01:24:00    samiul.vcube@gmail.com   25.0   13.0   \n",
       "4       00:18:00        01:15:00     hasan.vcube@gmail.com   22.0   14.0   \n",
       "\n",
       "   floors  ...       orgId                 status   livableArea          area  \\\n",
       "0     2.0  ...  6lEeqxPoh6               finished  5.390015e+06  5.731908e+06   \n",
       "1     2.0  ...         NaN               finished  5.390015e+06  5.731908e+06   \n",
       "2     1.0  ...  9VN3tg87UF      operator_assigned  1.623662e+06  1.623662e+06   \n",
       "3     1.0  ...         NaN      operator_assigned  1.623662e+06  1.623662e+06   \n",
       "4     1.0  ...  kZe5Ded0pa  ready_for_operator_qa  1.346923e+06  1.725780e+06   \n",
       "\n",
       "   photoCaptures  videoCapture  tasks__task__mandatory  tasks__task__optional  \\\n",
       "0            0.0           0.0                     NaN                    NaN   \n",
       "1            0.0           0.0                     NaN                    NaN   \n",
       "2           11.0           0.0                     NaN                    NaN   \n",
       "3           11.0           0.0                     1.0                    NaN   \n",
       "4           13.0           0.0                     1.0                    NaN   \n",
       "\n",
       "   tasks__task__undefined  work_time  \n",
       "0                     NaN       6360  \n",
       "1                     NaN       3720  \n",
       "2                     NaN        120  \n",
       "3                     NaN       4320  \n",
       "4                     NaN       3420  \n",
       "\n",
       "[5 rows x 22 columns]"
      ]
     },
     "execution_count": 519,
     "metadata": {},
     "output_type": "execute_result"
    }
   ],
   "source": [
    "#POPUNJAVANJE 'None' sa najbiližom vrednošću iznad (u kolonama gde to ima logike)\n",
    "collums_fill_nan = ['_id','spins', 'rooms', 'floors' , 'furniture', 'status', \n",
    "                    'photoCaptures', 'videoCapture', 'livableArea', 'area' ]\n",
    "for collum in collums_fill_nan:\n",
    "    df[collum].fillna(method='ffill', inplace = True) \n",
    "\n",
    "#PRAVLJENJE KOLONE 'work_time' (for each task in project)\n",
    "work_time = []\n",
    "for index in range(len(df)):\n",
    "    time_delta = datetime.combine(date.today(), df['tasks__finished'].iloc[index])- datetime.combine(date.today(), df['tasks__started'].iloc[index])\n",
    "    work_time.append(time_delta.seconds )\n",
    "df['work_time'] = work_time\n",
    "df.to_csv('Data/Dataset_sql.csv') #ovo služi kao GLAVNI CSV koji koristim dalje u SQL queries\n",
    "df.head()"
   ]
  },
  {
   "cell_type": "markdown",
   "metadata": {},
   "source": [
    "## 1. GENERALNE STATISTIKE"
   ]
  },
  {
   "cell_type": "code",
   "execution_count": 522,
   "metadata": {},
   "outputs": [
    {
     "name": "stdout",
     "output_type": "stream",
     "text": [
      "Broj projekata: 170\n",
      "Broj gotovih projekata: 127\n",
      "Broj operatora: 122\n",
      "Srednje vreme rada  operatora na zadatku: 70.26 min\n",
      "Njacesce vreme rada (50th percentile) operatora na zadatku: 44.00 min\n",
      "Srednje dimenzija objekta: 2984318.80\n",
      "Srednje broj soba: 17.43\n",
      "\n",
      "\n"
     ]
    }
   ],
   "source": [
    "broj_projekata = len(df['_id'].unique())\n",
    "print(f'Broj projekata: {broj_projekata}')\n",
    "broj_gotovih_projekata = len(df[df['status']== 'finished']['_id'].unique())\n",
    "print(f'Broj gotovih projekata: {broj_gotovih_projekata}')\n",
    "broj_operatora = len(df['tasks__operator'].unique())\n",
    "print(f'Broj operatora: {broj_operatora}')\n",
    "\n",
    "avrage_work_time_on_task = df[df['work_time'] > 300]['work_time'].mean() #izbacujem one koji su radili manje od 5min\n",
    "mediana = df[df['work_time'] > 300]['work_time'].median()\n",
    "print('Srednje vreme rada  operatora na zadatku: {:.2f} min'.format(avrage_work_time_on_task/60))\n",
    "print('Njacesce vreme rada (50th percentile) operatora na zadatku: {:.2f} min'.format(mediana/60))\n",
    "\n",
    "avrage_project_area = df[df['area'] > 500]['area'].mean() \n",
    "print('Srednje dimenzija objekta: {:.2f}'.format(avrage_project_area))\n",
    "avrage_project_rooms = df[df['rooms'] > 0]['rooms'].mean() \n",
    "print('Srednje broj soba: {:.2f}'.format(avrage_project_rooms))\n",
    "print('\\n')"
   ]
  },
  {
   "cell_type": "markdown",
   "metadata": {},
   "source": [
    "# 2. Statistike projekta\n",
    "\n",
    "### 2.1. Sati aktivnog rada po projektu (za taj dan)\n",
    "\n",
    "![alt text](Slike/sql_2.PNG)\n",
    "<i><center>Slika SQL code za vreme provedeno po projektu danas</center> </i>"
   ]
  },
  {
   "cell_type": "code",
   "execution_count": 456,
   "metadata": {},
   "outputs": [
    {
     "data": {
      "text/html": [
       "<div>\n",
       "<style scoped>\n",
       "    .dataframe tbody tr th:only-of-type {\n",
       "        vertical-align: middle;\n",
       "    }\n",
       "\n",
       "    .dataframe tbody tr th {\n",
       "        vertical-align: top;\n",
       "    }\n",
       "\n",
       "    .dataframe thead th {\n",
       "        text-align: right;\n",
       "    }\n",
       "</style>\n",
       "<table border=\"1\" class=\"dataframe\">\n",
       "  <thead>\n",
       "    <tr style=\"text-align: right;\">\n",
       "      <th></th>\n",
       "      <th>_id</th>\n",
       "      <th>Sati_aktivnog_rada</th>\n",
       "    </tr>\n",
       "  </thead>\n",
       "  <tbody>\n",
       "    <tr>\n",
       "      <th>169</th>\n",
       "      <td>dDgiOkAFrM</td>\n",
       "      <td>22.083333</td>\n",
       "    </tr>\n",
       "    <tr>\n",
       "      <th>168</th>\n",
       "      <td>E7SrxqsbIX</td>\n",
       "      <td>21.266667</td>\n",
       "    </tr>\n",
       "    <tr>\n",
       "      <th>167</th>\n",
       "      <td>DHXMANe4YC</td>\n",
       "      <td>19.266667</td>\n",
       "    </tr>\n",
       "    <tr>\n",
       "      <th>166</th>\n",
       "      <td>8C6Z4ZOziK</td>\n",
       "      <td>18.433333</td>\n",
       "    </tr>\n",
       "    <tr>\n",
       "      <th>165</th>\n",
       "      <td>kL2NhZZs10</td>\n",
       "      <td>17.766667</td>\n",
       "    </tr>\n",
       "  </tbody>\n",
       "</table>\n",
       "</div>"
      ],
      "text/plain": [
       "            _id  Sati_aktivnog_rada\n",
       "169  dDgiOkAFrM           22.083333\n",
       "168  E7SrxqsbIX           21.266667\n",
       "167  DHXMANe4YC           19.266667\n",
       "166  8C6Z4ZOziK           18.433333\n",
       "165  kL2NhZZs10           17.766667"
      ]
     },
     "execution_count": 456,
     "metadata": {},
     "output_type": "execute_result"
    }
   ],
   "source": [
    "df_proj_ = pd.read_csv('Data/1. Sati aktivnog rada po projektu.csv')\n",
    "df_proj_.sort_values('Sati_aktivnog_rada', ascending = False, inplace=True)\n",
    "df_proj_.head()"
   ]
  },
  {
   "cell_type": "code",
   "execution_count": 457,
   "metadata": {},
   "outputs": [
    {
     "name": "stdout",
     "output_type": "stream",
     "text": [
      "Srednje vreme aktivnog rada na projektu (ne uključuju se pauze): 5.70h\n"
     ]
    }
   ],
   "source": [
    "srednje_vreme = df_proj_[df_proj_['Sati_aktivnog_rada'] > 1].mean() \n",
    "print('Srednje vreme aktivnog rada na projektu (ne uključuju se pauze): {:.2f}h'.format(float(srednje_vreme)))"
   ]
  },
  {
   "cell_type": "code",
   "execution_count": 525,
   "metadata": {},
   "outputs": [
    {
     "name": "stdout",
     "output_type": "stream",
     "text": [
      "Quantiles:\n",
      "0.05     1.241667\n",
      "0.25     2.758333\n",
      "0.50     4.683333\n",
      "0.75     7.158333\n",
      "0.95    14.991667\n",
      "Name: Sati_aktivnog_rada, dtype: float64\n"
     ]
    },
    {
     "data": {
      "text/plain": [
       "Text(0.5, 1.0, 'Box plot')"
      ]
     },
     "execution_count": 525,
     "metadata": {},
     "output_type": "execute_result"
    },
    {
     "data": {
      "image/png": "[encoded data removed]",
      "text/plain": [
       "<Figure size 1008x720 with 1 Axes>"
      ]
     },
     "metadata": {},
     "output_type": "display_data"
    }
   ],
   "source": [
    "print('Quantiles:')\n",
    "print(df_proj_[df_proj_['Sati_aktivnog_rada'] > 1]['Sati_aktivnog_rada'].quantile([0.05, 0.25, 0.5, 0.75, 0.95]))\n",
    "ax = (df_proj_[df_proj_['Sati_aktivnog_rada'] > 1]['Sati_aktivnog_rada']).plot.box()\n",
    "ax.set_ylabel('Sati_aktivnog_rada')\n",
    "ax.set_xlabel('')\n",
    "ax.set_title('Box plot')"
   ]
  },
  {
   "cell_type": "markdown",
   "metadata": {},
   "source": [
    "Komentar: Ovi plotovi su generalno korisni da se vidi distribucija podataka. Iz Box plota iznad se lako vidi da je medijana, odnosno najčešće trajanje projekta 4.68h a da su 75th and 25th percentiles gornja i donja granica u ovom slučaju između 2.7h i 7.1h"
   ]
  },
  {
   "cell_type": "markdown",
   "metadata": {},
   "source": [
    "### 2.2. Vreme potrebno za završen projekat (skalirano po veličini prostora) \n",
    "- Kako veličina objekta utiče na vreme izrade, da bi bilo objektivnije, izdvojeno je vreme rada po jedinici prostora (jedinica prostora koja je data u datasetu)\n",
    "- Ovo je subjektivna metrika koja mi je imala smisla i kasnije sam je koristio na ostalim problemima\n",
    "![alt text](Slike/sql_3.PNG)\n",
    "<i><center>Slika SQL code Vreme potrebno za završen projekat (skalirano po veličini prostora)</center> </i>"
   ]
  },
  {
   "cell_type": "code",
   "execution_count": 458,
   "metadata": {},
   "outputs": [
    {
     "name": "stdout",
     "output_type": "stream",
     "text": [
      "najproduktivniji projekti: 0    ssxsD9sz3W\n",
      "Name: _id, dtype: object\n"
     ]
    },
    {
     "data": {
      "text/html": [
       "<div>\n",
       "<style scoped>\n",
       "    .dataframe tbody tr th:only-of-type {\n",
       "        vertical-align: middle;\n",
       "    }\n",
       "\n",
       "    .dataframe tbody tr th {\n",
       "        vertical-align: top;\n",
       "    }\n",
       "\n",
       "    .dataframe thead th {\n",
       "        text-align: right;\n",
       "    }\n",
       "</style>\n",
       "<table border=\"1\" class=\"dataframe\">\n",
       "  <thead>\n",
       "    <tr style=\"text-align: right;\">\n",
       "      <th></th>\n",
       "      <th>_id</th>\n",
       "      <th>Vreme_rada_po_velicini_projekta</th>\n",
       "    </tr>\n",
       "  </thead>\n",
       "  <tbody>\n",
       "    <tr>\n",
       "      <th>122</th>\n",
       "      <td>Xekqt4Riib</td>\n",
       "      <td>0.052492</td>\n",
       "    </tr>\n",
       "    <tr>\n",
       "      <th>121</th>\n",
       "      <td>3axCOOrlSE</td>\n",
       "      <td>0.040841</td>\n",
       "    </tr>\n",
       "    <tr>\n",
       "      <th>120</th>\n",
       "      <td>ibAALs4Kib</td>\n",
       "      <td>0.032630</td>\n",
       "    </tr>\n",
       "    <tr>\n",
       "      <th>119</th>\n",
       "      <td>9sKFu8BKHj</td>\n",
       "      <td>0.032498</td>\n",
       "    </tr>\n",
       "    <tr>\n",
       "      <th>118</th>\n",
       "      <td>DHXMANe4YC</td>\n",
       "      <td>0.032137</td>\n",
       "    </tr>\n",
       "  </tbody>\n",
       "</table>\n",
       "</div>"
      ],
      "text/plain": [
       "            _id  Vreme_rada_po_velicini_projekta\n",
       "122  Xekqt4Riib                         0.052492\n",
       "121  3axCOOrlSE                         0.040841\n",
       "120  ibAALs4Kib                         0.032630\n",
       "119  9sKFu8BKHj                         0.032498\n",
       "118  DHXMANe4YC                         0.032137"
      ]
     },
     "execution_count": 458,
     "metadata": {},
     "output_type": "execute_result"
    }
   ],
   "source": [
    "#metrika ima limitacija na ovom data setu, ali na pravom ne bi trebalo\n",
    "print(f'najproduktivniji projekti: {produktivan}')\n",
    "df_proj = pd.read_csv('Data/1.Vreme po projektu po prostru.csv')\n",
    "df_proj.sort_values('Vreme_rada_po_velicini_projekta', ascending = False, inplace=True)\n",
    "df_proj.head()"
   ]
  },
  {
   "cell_type": "code",
   "execution_count": 523,
   "metadata": {},
   "outputs": [
    {
     "name": "stdout",
     "output_type": "stream",
     "text": [
      "NAJPRODUKTIVNIJI PROJEKTI: 0    ssxsD9sz3W\n",
      "Name: _id, dtype: object\n",
      "NAJMANJE PRODUKTIVNI PROJEKTI: 122    Xekqt4Riib\n",
      "Name: _id, dtype: object\n"
     ]
    }
   ],
   "source": [
    "produktivan = df_proj[df_proj['Vreme_rada_po_velicini_projekta'] == df_proj['Vreme_rada_po_velicini_projekta'].min()]['_id']\n",
    "produktivan_ = df_proj[df_proj['Vreme_rada_po_velicini_projekta'] == df_proj['Vreme_rada_po_velicini_projekta'].max()]['_id']\n",
    "print(f'NAJPRODUKTIVNIJI PROJEKTI: {produktivan}')\n",
    "print(f'NAJMANJE PRODUKTIVNI PROJEKTI: {produktivan_}')"
   ]
  },
  {
   "cell_type": "markdown",
   "metadata": {},
   "source": [
    "# 3. Analiza operatora "
   ]
  },
  {
   "cell_type": "markdown",
   "metadata": {},
   "source": [
    "## 3.1. Srednje vreme rada po operatoru\n",
    "\n",
    "![alt text](Slike/sql_1.PNG)\n",
    "<i><center>SQL code</center> </i>"
   ]
  },
  {
   "cell_type": "code",
   "execution_count": 403,
   "metadata": {},
   "outputs": [
    {
     "data": {
      "text/html": [
       "<div>\n",
       "<style scoped>\n",
       "    .dataframe tbody tr th:only-of-type {\n",
       "        vertical-align: middle;\n",
       "    }\n",
       "\n",
       "    .dataframe tbody tr th {\n",
       "        vertical-align: top;\n",
       "    }\n",
       "\n",
       "    .dataframe thead th {\n",
       "        text-align: right;\n",
       "    }\n",
       "</style>\n",
       "<table border=\"1\" class=\"dataframe\">\n",
       "  <thead>\n",
       "    <tr style=\"text-align: right;\">\n",
       "      <th></th>\n",
       "      <th>tasks__operator</th>\n",
       "      <th>Sati_rada</th>\n",
       "    </tr>\n",
       "  </thead>\n",
       "  <tbody>\n",
       "    <tr>\n",
       "      <th>121</th>\n",
       "      <td>1pofW9PHH6</td>\n",
       "      <td>11.350000</td>\n",
       "    </tr>\n",
       "    <tr>\n",
       "      <th>120</th>\n",
       "      <td>CY1etv187c</td>\n",
       "      <td>10.983333</td>\n",
       "    </tr>\n",
       "    <tr>\n",
       "      <th>119</th>\n",
       "      <td>XH9hDFiMfC</td>\n",
       "      <td>10.616667</td>\n",
       "    </tr>\n",
       "    <tr>\n",
       "      <th>118</th>\n",
       "      <td>FsQyGX2H4m</td>\n",
       "      <td>10.583333</td>\n",
       "    </tr>\n",
       "    <tr>\n",
       "      <th>117</th>\n",
       "      <td>NH414EguSY</td>\n",
       "      <td>10.566667</td>\n",
       "    </tr>\n",
       "  </tbody>\n",
       "</table>\n",
       "</div>"
      ],
      "text/plain": [
       "    tasks__operator  Sati_rada\n",
       "121      1pofW9PHH6  11.350000\n",
       "120      CY1etv187c  10.983333\n",
       "119      XH9hDFiMfC  10.616667\n",
       "118      FsQyGX2H4m  10.583333\n",
       "117      NH414EguSY  10.566667"
      ]
     },
     "execution_count": 403,
     "metadata": {},
     "output_type": "execute_result"
    }
   ],
   "source": [
    "df_operatori = pd.read_csv('Data/Kolko su radili ljudi.csv')\n",
    "df_operatori.sort_values('Sati_rada', ascending = False, inplace=True)\n",
    "df_operatori.head()"
   ]
  },
  {
   "cell_type": "code",
   "execution_count": 336,
   "metadata": {},
   "outputs": [
    {
     "name": "stdout",
     "output_type": "stream",
     "text": [
      "Operatori sa najviše sati rada danas:\n",
      " \n",
      "    tasks__operator  Sati_rada\n",
      "121      1pofW9PHH6  11.350000\n",
      "120      CY1etv187c  10.983333\n",
      "119      XH9hDFiMfC  10.616667\n",
      "118      FsQyGX2H4m  10.583333\n",
      "117      NH414EguSY  10.566667\n",
      "\n",
      "\n",
      "Operatori sa najmanje sati rada danas:\n",
      " \n",
      "   tasks__operator  Sati_rada\n",
      "6       462bsh78PH   1.283333\n",
      "7       c2IiL901cb   1.316667\n",
      "8       sjPT3lh2KD   1.633333\n",
      "9       bKKy3cqEhu   1.716667\n",
      "10      SCuob85her   1.850000\n"
     ]
    }
   ],
   "source": [
    "print('Operatori sa najviše sati rada danas:\\n ')\n",
    "print(df_operatori[0:5])\n",
    "print('\\n')\n",
    "print('Operatori sa najmanje sati rada danas:\\n ')\n",
    "print(df_operatori[df_operatori['Sati_rada']>0.5].sort_values('Sati_rada')[:5])\n"
   ]
  },
  {
   "cell_type": "code",
   "execution_count": 524,
   "metadata": {},
   "outputs": [
    {
     "name": "stdout",
     "output_type": "stream",
     "text": [
      "Quantiles:\n",
      "0.05     2.683333\n",
      "0.25     6.562500\n",
      "0.50     7.475000\n",
      "0.75     8.950000\n",
      "0.95    10.491667\n",
      "Name: Sati_rada, dtype: float64\n"
     ]
    },
    {
     "data": {
      "text/plain": [
       "Text(0.5, 1.0, 'Box plot')"
      ]
     },
     "execution_count": 524,
     "metadata": {},
     "output_type": "execute_result"
    },
    {
     "data": {
      "image/png": "[encoded data removed]",
      "text/plain": [
       "<Figure size 1008x720 with 1 Axes>"
      ]
     },
     "metadata": {},
     "output_type": "display_data"
    }
   ],
   "source": [
    "#Scatter plot\n",
    "print('Quantiles:')\n",
    "print(df_operatori[df_operatori['Sati_rada'] > 0.5]['Sati_rada'].quantile([0.05, 0.25, 0.5, 0.75, 0.95]))\n",
    "ax = (df_operatori[df_operatori['Sati_rada'] > 0.5]['Sati_rada']).plot.box()\n",
    "ax.set_ylabel('Sati_aktivnog_rada')\n",
    "ax.set_xlabel('')\n",
    "ax.set_title('Box plot')"
   ]
  },
  {
   "cell_type": "markdown",
   "metadata": {},
   "source": [
    "Komentar: Iz Box plota iznad se lako vidi da je medijana, odnosno najčešće rad operatera 7.5h (što je očekivano), a da su 75th and 25th percentiles gornja i donja granica u ovom slučaju između 6.5h i 9h, treba kontaktirati donjih 25% percentile"
   ]
  },
  {
   "cell_type": "code",
   "execution_count": 409,
   "metadata": {},
   "outputs": [
    {
     "name": "stderr",
     "output_type": "stream",
     "text": [
      "C:\\Users\\Freedom\\Anaconda3\\envs\\master_rad\\lib\\site-packages\\ipykernel_launcher.py:8: SettingWithCopyWarning: \n",
      "A value is trying to be set on a copy of a slice from a DataFrame.\n",
      "Try using .loc[row_indexer,col_indexer] = value instead\n",
      "\n",
      "See the caveats in the documentation: https://pandas.pydata.org/pandas-docs/stable/user_guide/indexing.html#returning-a-view-versus-a-copy\n",
      "  \n"
     ]
    },
    {
     "data": {
      "text/plain": [
       "<AxesSubplot:title={'center':'Cluster po satima rada operateri'}, xlabel='index_operatera', ylabel='Sati_rada'>"
      ]
     },
     "execution_count": 409,
     "metadata": {},
     "output_type": "execute_result"
    },
    {
     "data": {
      "image/png": "[encoded data removed]",
      "text/plain": [
       "<Figure size 1008x720 with 1 Axes>"
      ]
     },
     "metadata": {},
     "output_type": "display_data"
    }
   ],
   "source": [
    "from sklearn.cluster import KMeans\n",
    "#simbolicki prikazan K means clastering na kome klasterujemo najproduktivnije radnike \n",
    "\n",
    "df_operatori['index_operatera'] = range(len(df_operatori))\n",
    "\n",
    "df = df_operatori[['index_operatera', 'Sati_rada']] \n",
    "kmeans = KMeans(n_clusters=3).fit(df)\n",
    "df['cluster'] = kmeans.labels_ #claster labels\n",
    "centers = pd.DataFrame(kmeans.cluster_centers_, columns=['index_operatera', 'Sati_rada']) \n",
    "\n",
    "fig, ax = plt.subplots()\n",
    "ax = sns.scatterplot(x='index_operatera', y='Sati_rada', hue='cluster', style='cluster',\n",
    "ax=ax, data=df)\n",
    "ax.set_xlim(0, 150)\n",
    "ax.set_ylim(0, 12)\n",
    "ax.set_title('Cluster po satima rada operateri')\n",
    "centers.plot.scatter(x='index_operatera', y='Sati_rada', ax=ax, s=50, color='black')\n",
    "\n"
   ]
  },
  {
   "attachments": {},
   "cell_type": "markdown",
   "metadata": {},
   "source": [
    "## 3.2. Odabir najproduktivnijih operatora po tasku\n",
    "\n",
    "- Metrika:\n",
    "    - Projekti na kojima radi najbrže se završe\n",
    "    - Njegova uloga u tom tasku projekta je veća od 30% (Vremena) \n",
    "    - Projekat mora da bude završen \n",
    "    - Urađeno odvojeno za QA taskove i za ostale taskove\n",
    "\n",
    "\n",
    "### 3.2.1. Projekti sa operatorom na QA tasku  \n",
    "![alt text](Slike/sql_4.PNG)\n",
    "<i><center>SQL code</center> </i>\n",
    "- ds : Dataset_sql.csv (glavni CSV)\n",
    "- vpp : Vreme po projektu po prostru.csv (Vreme potrebno za završen projekat (skalirano po veličini prostora)"
   ]
  },
  {
   "cell_type": "code",
   "execution_count": 212,
   "metadata": {},
   "outputs": [
    {
     "data": {
      "text/html": [
       "<div>\n",
       "<style scoped>\n",
       "    .dataframe tbody tr th:only-of-type {\n",
       "        vertical-align: middle;\n",
       "    }\n",
       "\n",
       "    .dataframe tbody tr th {\n",
       "        vertical-align: top;\n",
       "    }\n",
       "\n",
       "    .dataframe thead th {\n",
       "        text-align: right;\n",
       "    }\n",
       "</style>\n",
       "<table border=\"1\" class=\"dataframe\">\n",
       "  <thead>\n",
       "    <tr style=\"text-align: right;\">\n",
       "      <th></th>\n",
       "      <th>Operater</th>\n",
       "      <th>srednje_vreme_na_projektima_u_kojima_je_ucestvovao</th>\n",
       "    </tr>\n",
       "  </thead>\n",
       "  <tbody>\n",
       "    <tr>\n",
       "      <th>24</th>\n",
       "      <td>bKVcU0Dg6J</td>\n",
       "      <td>0.018469</td>\n",
       "    </tr>\n",
       "    <tr>\n",
       "      <th>27</th>\n",
       "      <td>d3g8920pzD</td>\n",
       "      <td>0.017667</td>\n",
       "    </tr>\n",
       "    <tr>\n",
       "      <th>4</th>\n",
       "      <td>9KQW28GALF</td>\n",
       "      <td>0.016057</td>\n",
       "    </tr>\n",
       "    <tr>\n",
       "      <th>33</th>\n",
       "      <td>mQJzmFcAP7</td>\n",
       "      <td>0.015950</td>\n",
       "    </tr>\n",
       "    <tr>\n",
       "      <th>17</th>\n",
       "      <td>SCyIhRheFc</td>\n",
       "      <td>0.015049</td>\n",
       "    </tr>\n",
       "  </tbody>\n",
       "</table>\n",
       "</div>"
      ],
      "text/plain": [
       "      Operater  srednje_vreme_na_projektima_u_kojima_je_ucestvovao\n",
       "24  bKVcU0Dg6J                                           0.018469 \n",
       "27  d3g8920pzD                                           0.017667 \n",
       "4   9KQW28GALF                                           0.016057 \n",
       "33  mQJzmFcAP7                                           0.015950 \n",
       "17  SCyIhRheFc                                           0.015049 "
      ]
     },
     "execution_count": 212,
     "metadata": {},
     "output_type": "execute_result"
    }
   ],
   "source": [
    "df_operatori_qa = pd.read_csv('Data/2.QA_30%.csv')\n",
    "df_operatori_qa.sort_values('srednje_vreme_na_projektima_u_kojima_je_ucestvovao', ascending = False, inplace=True)\n",
    "df_operatori_qa.head()\n",
    "#srednje_vreme_na_projektima_u_kojima_je_ucestvovao je skalirano u zavisnosti od veličine objekta\n",
    "#(po jedinici prostora) "
   ]
  },
  {
   "cell_type": "code",
   "execution_count": 213,
   "metadata": {},
   "outputs": [
    {
     "name": "stdout",
     "output_type": "stream",
     "text": [
      "QA Operatori ciji su projekti najneproduktivniji:\n",
      " \n",
      "24    bKVcU0Dg6J\n",
      "27    d3g8920pzD\n",
      "4     9KQW28GALF\n",
      "Name: Operater, dtype: object\n",
      "\n",
      "\n",
      "QA Operatori ciji su projekti najproduktivniji:\n",
      " \n",
      "23    bKKy3cqEhu\n",
      "2     3ql1T6Bhar\n",
      "8     FcyNpCCzIV\n",
      "Name: Operater, dtype: object\n"
     ]
    }
   ],
   "source": [
    "print('QA Operatori ciji su projekti najneproduktivniji:\\n ')\n",
    "print(df_operatori_qa[0:3]['Operater'])\n",
    "print('\\n')\n",
    "print('QA Operatori ciji su projekti najproduktivniji:\\n ')\n",
    "print(df_operatori_qa.sort_values('srednje_vreme_na_projektima_u_kojima_je_ucestvovao')[0:3]['Operater'])"
   ]
  },
  {
   "cell_type": "markdown",
   "metadata": {},
   "source": [
    "### 3.2.2. Operateri na 'ne QA' (primer: floor plan ..) taskovima \n",
    "\n",
    "![alt text](Slike/sql_5.PNG)\n",
    "<i><center>SQL code</center> </i>\n",
    "- ds : Dataset_sql.csv (glavni CSV)\n",
    "- vpp : Vreme po projektu po prostru.csv (Vreme potrebno za završen projekat (skalirano po veličini prostora)"
   ]
  },
  {
   "cell_type": "code",
   "execution_count": 218,
   "metadata": {},
   "outputs": [
    {
     "data": {
      "text/html": [
       "<div>\n",
       "<style scoped>\n",
       "    .dataframe tbody tr th:only-of-type {\n",
       "        vertical-align: middle;\n",
       "    }\n",
       "\n",
       "    .dataframe tbody tr th {\n",
       "        vertical-align: top;\n",
       "    }\n",
       "\n",
       "    .dataframe thead th {\n",
       "        text-align: right;\n",
       "    }\n",
       "</style>\n",
       "<table border=\"1\" class=\"dataframe\">\n",
       "  <thead>\n",
       "    <tr style=\"text-align: right;\">\n",
       "      <th></th>\n",
       "      <th>Operater</th>\n",
       "      <th>srednje_vreme_na_projektima_u_kojima_je_ucestvovao</th>\n",
       "    </tr>\n",
       "  </thead>\n",
       "  <tbody>\n",
       "    <tr>\n",
       "      <th>4</th>\n",
       "      <td>5D8ktsKwkm</td>\n",
       "      <td>0.040841</td>\n",
       "    </tr>\n",
       "    <tr>\n",
       "      <th>61</th>\n",
       "      <td>miNAe91tcO</td>\n",
       "      <td>0.032564</td>\n",
       "    </tr>\n",
       "    <tr>\n",
       "      <th>43</th>\n",
       "      <td>c9eEm6WwGx</td>\n",
       "      <td>0.027926</td>\n",
       "    </tr>\n",
       "    <tr>\n",
       "      <th>36</th>\n",
       "      <td>WxFQdxxRg8</td>\n",
       "      <td>0.022535</td>\n",
       "    </tr>\n",
       "    <tr>\n",
       "      <th>55</th>\n",
       "      <td>jU4oFWoVtv</td>\n",
       "      <td>0.020043</td>\n",
       "    </tr>\n",
       "  </tbody>\n",
       "</table>\n",
       "</div>"
      ],
      "text/plain": [
       "      Operater  srednje_vreme_na_projektima_u_kojima_je_ucestvovao\n",
       "4   5D8ktsKwkm                                           0.040841 \n",
       "61  miNAe91tcO                                           0.032564 \n",
       "43  c9eEm6WwGx                                           0.027926 \n",
       "36  WxFQdxxRg8                                           0.022535 \n",
       "55  jU4oFWoVtv                                           0.020043 "
      ]
     },
     "execution_count": 218,
     "metadata": {},
     "output_type": "execute_result"
    }
   ],
   "source": [
    "df_operatori_ne_qa = pd.read_csv('Data/2.neQA_30%.csv')\n",
    "df_operatori_ne_qa.sort_values('srednje_vreme_na_projektima_u_kojima_je_ucestvovao', ascending = False, inplace=True)\n",
    "df_operatori_ne_qa.head()\n",
    "#srednje_vreme_na_projektima_u_kojima_je_ucestvovao je skalirano u zavisnosti od veličine objekta\n",
    "#(po jedinici prostora) "
   ]
  },
  {
   "cell_type": "code",
   "execution_count": 219,
   "metadata": {},
   "outputs": [
    {
     "name": "stdout",
     "output_type": "stream",
     "text": [
      "Operatori (ne QA) ciji su projekti najneproduktivniji:\n",
      " \n",
      "4     5D8ktsKwkm\n",
      "61    miNAe91tcO\n",
      "43    c9eEm6WwGx\n",
      "Name: Operater, dtype: object\n",
      "\n",
      "\n",
      "Operatori(ne QA) ciji su projekti najproduktivniji:\n",
      " \n",
      "57    loO0gOUSOP\n",
      "11    APnaTJhhYt\n",
      "48    g3WKpayJfI\n",
      "Name: Operater, dtype: object\n"
     ]
    }
   ],
   "source": [
    "print('Operatori (ne QA) ciji su projekti najneproduktivniji:\\n ')\n",
    "print(df_operatori_ne_qa[0:3]['Operater'])\n",
    "print('\\n')\n",
    "print('Operatori(ne QA) ciji su projekti najproduktivniji:\\n ')\n",
    "print(df_operatori_ne_qa.sort_values('srednje_vreme_na_projektima_u_kojima_je_ucestvovao')[0:3]['Operater'])"
   ]
  },
  {
   "cell_type": "markdown",
   "metadata": {},
   "source": [
    "# 4. Analiza po taskovima"
   ]
  },
  {
   "cell_type": "markdown",
   "metadata": {},
   "source": [
    "## 4.1. FLOOR PLAN\n",
    "\n",
    "![alt text](Slike/sql_6.PNG)\n",
    "<i><center>SQL code</center> </i>"
   ]
  },
  {
   "cell_type": "code",
   "execution_count": 410,
   "metadata": {},
   "outputs": [
    {
     "data": {
      "text/html": [
       "<div>\n",
       "<style scoped>\n",
       "    .dataframe tbody tr th:only-of-type {\n",
       "        vertical-align: middle;\n",
       "    }\n",
       "\n",
       "    .dataframe tbody tr th {\n",
       "        vertical-align: top;\n",
       "    }\n",
       "\n",
       "    .dataframe thead th {\n",
       "        text-align: right;\n",
       "    }\n",
       "</style>\n",
       "<table border=\"1\" class=\"dataframe\">\n",
       "  <thead>\n",
       "    <tr style=\"text-align: right;\">\n",
       "      <th></th>\n",
       "      <th>project id</th>\n",
       "      <th>Task_Name</th>\n",
       "      <th>work_time_by_project_size</th>\n",
       "      <th>broj operatera</th>\n",
       "    </tr>\n",
       "  </thead>\n",
       "  <tbody>\n",
       "    <tr>\n",
       "      <th>51</th>\n",
       "      <td>DHXMANe4YC</td>\n",
       "      <td>Third Floor</td>\n",
       "      <td>0.006172</td>\n",
       "      <td>2</td>\n",
       "    </tr>\n",
       "    <tr>\n",
       "      <th>32</th>\n",
       "      <td>bvdd8e6v4G</td>\n",
       "      <td>Second Floor</td>\n",
       "      <td>0.003750</td>\n",
       "      <td>1</td>\n",
       "    </tr>\n",
       "    <tr>\n",
       "      <th>27</th>\n",
       "      <td>df3blK7xCK</td>\n",
       "      <td>Second Floor</td>\n",
       "      <td>0.003333</td>\n",
       "      <td>1</td>\n",
       "    </tr>\n",
       "    <tr>\n",
       "      <th>48</th>\n",
       "      <td>kbG28DWnEl</td>\n",
       "      <td>Second Floor</td>\n",
       "      <td>0.005219</td>\n",
       "      <td>1</td>\n",
       "    </tr>\n",
       "    <tr>\n",
       "      <th>21</th>\n",
       "      <td>hS1Alp29rA</td>\n",
       "      <td>Second Floor</td>\n",
       "      <td>0.002700</td>\n",
       "      <td>2</td>\n",
       "    </tr>\n",
       "  </tbody>\n",
       "</table>\n",
       "</div>"
      ],
      "text/plain": [
       "    project id     Task_Name  work_time_by_project_size  broj operatera\n",
       "51  DHXMANe4YC   Third Floor                   0.006172               2\n",
       "32  bvdd8e6v4G  Second Floor                   0.003750               1\n",
       "27  df3blK7xCK  Second Floor                   0.003333               1\n",
       "48  kbG28DWnEl  Second Floor                   0.005219               1\n",
       "21  hS1Alp29rA  Second Floor                   0.002700               2"
      ]
     },
     "execution_count": 410,
     "metadata": {},
     "output_type": "execute_result"
    }
   ],
   "source": [
    "# Odatle dobijen Floar plan\n",
    "df_floarplan = pd.read_csv('Data/3. Floor plan .csv')\n",
    "df_floarplan.sort_values('Task_Name', ascending = False, inplace=True)\n",
    "df_floarplan.head()\n",
    "#work_time_by_project_size je slično kao ranije izraženo kao: Work_time_po_zadatku/(Povrsina_prostora/broj spratova)\n",
    "#Kako veličina objekta utiče na vreme izrade floor plana, da bi bilo objektivnije, izdvojeno je vreme rada po jedinici prostora (jedinica prostora koja je data u datasetu)\n",
    "#to je urađeno kako bi mogli da se porede adekvatno, možemo da diskusujemo o ovme"
   ]
  },
  {
   "cell_type": "markdown",
   "metadata": {},
   "source": [
    "- work_time_by_project_size je slično kao ranije izraženo kao: Work_time_po_zadatku/(Povrsina_prostora/broj spratova)\n",
    "- Kako veličina objekta utiče na vreme izrade floor plana, da bi bilo objektivnije, izdvojeno je vreme rada po jedinici prostora (jedinica prostora koja je data u datasetu)\n",
    "- Možemo da se i promeni otvoreno je za diskusiju"
   ]
  },
  {
   "cell_type": "code",
   "execution_count": 411,
   "metadata": {},
   "outputs": [
    {
     "name": "stdout",
     "output_type": "stream",
     "text": [
      "Srednje vreme rada za floor plan po spratu:0.004150204102800419\n",
      "Srednje vreme rada kada radi jedan operator : 0.0037417595060630264\n",
      "Srednje vreme rada kada radi dva operator : 0.004432104953289013\n",
      "Srednje vreme rada kada radi vise od dva operatora : 0.006842433832525965\n"
     ]
    }
   ],
   "source": [
    "print('Srednje vreme rada za floor plan po spratu:{}'.format(df_floarplan['work_time_by_project_size'].mean()))\n",
    "print('Srednje vreme rada kada radi jedan operator :', df_floarplan[df_floarplan['broj operatera'] == 1].mean()['work_time_by_project_size'])\n",
    "print('Srednje vreme rada kada radi dva operator :', df_floarplan[df_floarplan['broj operatera'] == 2].mean()['work_time_by_project_size'])\n",
    "print('Srednje vreme rada kada radi vise od dva operatora :', df_floarplan[df_floarplan['broj operatera'] > 2].mean()['work_time_by_project_size'])"
   ]
  },
  {
   "cell_type": "markdown",
   "metadata": {},
   "source": [
    "### Zaključak \n",
    "Za svakog dodatnog operatora na floor planu vreme trajanje izrade po jedinici prostora raste priblizno 60%"
   ]
  },
  {
   "cell_type": "code",
   "execution_count": 412,
   "metadata": {},
   "outputs": [
    {
     "data": {
      "text/plain": [
       "Text(0.5, 1.0, 'Kako se povećava vreme rada sa povećanjem broja ljudi na projektu')"
      ]
     },
     "execution_count": 412,
     "metadata": {},
     "output_type": "execute_result"
    },
    {
     "data": {
      "image/png": "[encoded data removed]",
      "text/plain": [
       "<Figure size 1008x720 with 1 Axes>"
      ]
     },
     "metadata": {},
     "output_type": "display_data"
    }
   ],
   "source": [
    "# kako se povećava vreme rada sa povećanjem broja ljudi na projektu\n",
    "plt.plot([1,2,4], [df_floarplan[df_floarplan['broj operatera'] == 1].mean()['work_time_by_project_size'],\n",
    "          df_floarplan[df_floarplan['broj operatera'] == 2].mean()['work_time_by_project_size'],\n",
    "         df_floarplan[df_floarplan['broj operatera'] > 2].mean()['work_time_by_project_size']])\n",
    "plt.xlabel(\"Broj ljudi na floor planu\")\n",
    "plt.ylabel(\"Vreme rada (po kvadratu)\")\n",
    "plt.title('Kako se povećava vreme rada sa povećanjem broja ljudi na projektu')"
   ]
  },
  {
   "cell_type": "code",
   "execution_count": 413,
   "metadata": {},
   "outputs": [
    {
     "data": {
      "text/plain": [
       "Text(0.5, 1.0, 'Raspodela broja ljudi po floor planu')"
      ]
     },
     "execution_count": 413,
     "metadata": {},
     "output_type": "execute_result"
    },
    {
     "data": {
      "image/png": "[encoded data removed]",
      "text/plain": [
       "<Figure size 1008x720 with 1 Axes>"
      ]
     },
     "metadata": {},
     "output_type": "display_data"
    }
   ],
   "source": [
    "#scatter plot\n",
    "_1 = len(df_floarplan[df_floarplan['broj operatera']== 1])\n",
    "_2 = len(df_floarplan[df_floarplan['broj operatera']== 2])\n",
    "_3 = len(df_floarplan[df_floarplan['broj operatera']== 3])\n",
    "_4 = len(df_floarplan[df_floarplan['broj operatera']== 4])\n",
    "\n",
    "#plt.scatter(range(len(df_floarplan['broj operatera'])), df_floarplan['broj operatera'], s=50)\n",
    "plt.bar([1,2,3,4],[_1,_2,_3,_4])\n",
    "plt.xlabel(\"Broj operatera na projektu\")\n",
    "plt.ylabel(\"Broj projekata\")\n",
    "plt.title('Raspodela broja ljudi po floor planu')"
   ]
  },
  {
   "cell_type": "code",
   "execution_count": 414,
   "metadata": {},
   "outputs": [
    {
     "name": "stdout",
     "output_type": "stream",
     "text": [
      "Od 65 projekata, 5 projekta imaju 3 ili više različitih operatera ZA ISTI Floor plan.\n",
      "Kako smo videli da vreme projekta raste proporcijonalno sa brojem operatera na njemu,\n",
      "savetujemo da se kontaktiraju ljudi sa sledećih projekata:\n",
      "project_ID:\n",
      "29    DHXMANe4YC\n",
      "61    kL2NhZZs10\n",
      "45    DNecVzJYHg\n",
      "64    DHXMANe4YC\n",
      "28    mEGSpytwgC\n",
      "Name: project id, dtype: object\n"
     ]
    }
   ],
   "source": [
    "print('Od {} projekata, {} projekta imaju 3 ili više različitih operatera ZA ISTI Floor plan.\\nKako smo videli da vreme projekta raste proporcijonalno sa brojem operatera na njemu,\\nsavetujemo da se kontaktiraju ljudi sa sledećih projekata:'\n",
    "      .format(len(df_floarplan), len(df_floarplan[df_floarplan['broj operatera']>2])))\n",
    "print('project_ID:')\n",
    "print(df_floarplan[df_floarplan['broj operatera']>2]['project id'][0:])"
   ]
  },
  {
   "cell_type": "markdown",
   "metadata": {},
   "source": [
    "## 4.2. QA analiza\n",
    "\n",
    "![alt text](Slike/sql_7.PNG)\n",
    "<i><center>SQL code</center> </i>"
   ]
  },
  {
   "cell_type": "code",
   "execution_count": 114,
   "metadata": {},
   "outputs": [
    {
     "data": {
      "text/html": [
       "<div>\n",
       "<style scoped>\n",
       "    .dataframe tbody tr th:only-of-type {\n",
       "        vertical-align: middle;\n",
       "    }\n",
       "\n",
       "    .dataframe tbody tr th {\n",
       "        vertical-align: top;\n",
       "    }\n",
       "\n",
       "    .dataframe thead th {\n",
       "        text-align: right;\n",
       "    }\n",
       "</style>\n",
       "<table border=\"1\" class=\"dataframe\">\n",
       "  <thead>\n",
       "    <tr style=\"text-align: right;\">\n",
       "      <th></th>\n",
       "      <th>project id</th>\n",
       "      <th>Task_Name</th>\n",
       "      <th>work_time by project size</th>\n",
       "      <th>broj operatera</th>\n",
       "    </tr>\n",
       "  </thead>\n",
       "  <tbody>\n",
       "    <tr>\n",
       "      <th>0</th>\n",
       "      <td>1St0W9d3UR</td>\n",
       "      <td>QA</td>\n",
       "      <td>0.005661</td>\n",
       "      <td>2</td>\n",
       "    </tr>\n",
       "    <tr>\n",
       "      <th>1</th>\n",
       "      <td>2B6gXwZymG</td>\n",
       "      <td>QA</td>\n",
       "      <td>0.005747</td>\n",
       "      <td>3</td>\n",
       "    </tr>\n",
       "    <tr>\n",
       "      <th>2</th>\n",
       "      <td>3axCOOrlSE</td>\n",
       "      <td>QA</td>\n",
       "      <td>0.002265</td>\n",
       "      <td>2</td>\n",
       "    </tr>\n",
       "    <tr>\n",
       "      <th>3</th>\n",
       "      <td>3sPKDEZOf9</td>\n",
       "      <td>QA</td>\n",
       "      <td>0.000657</td>\n",
       "      <td>2</td>\n",
       "    </tr>\n",
       "    <tr>\n",
       "      <th>4</th>\n",
       "      <td>47FDVmmNiI</td>\n",
       "      <td>QA</td>\n",
       "      <td>0.000877</td>\n",
       "      <td>2</td>\n",
       "    </tr>\n",
       "  </tbody>\n",
       "</table>\n",
       "</div>"
      ],
      "text/plain": [
       "   project id Task_Name  work_time by project size  broj operatera\n",
       "0  1St0W9d3UR        QA                   0.005661               2\n",
       "1  2B6gXwZymG        QA                   0.005747               3\n",
       "2  3axCOOrlSE        QA                   0.002265               2\n",
       "3  3sPKDEZOf9        QA                   0.000657               2\n",
       "4  47FDVmmNiI        QA                   0.000877               2"
      ]
     },
     "execution_count": 114,
     "metadata": {},
     "output_type": "execute_result"
    }
   ],
   "source": [
    "df_QA = pd.read_csv('Data/QA_rad_broj operatera.csv')\n",
    "df_QA.head()"
   ]
  },
  {
   "cell_type": "code",
   "execution_count": 115,
   "metadata": {},
   "outputs": [
    {
     "name": "stdout",
     "output_type": "stream",
     "text": [
      "Srednje vreme rada za QA:0.002751962948729191\n",
      "Srednje vreme rada kada radi jedan operator : 0.0013449347727543643\n",
      "Srednje vreme rada kada radi dva operator : 0.0020387885353241545\n",
      "Srednje vreme rada kada radi tri operatora : 0.008043688779591069\n",
      "Srednje vreme rada kada radi vise od tri operatora : 0.008907323213138764\n"
     ]
    }
   ],
   "source": [
    "print('Srednje vreme rada za QA:{}'.format(df_QA['work_time by project size'].mean()))\n",
    "print('Srednje vreme rada kada radi jedan operator :', df_QA[df_QA['broj operatera'] == 1].mean()['work_time by project size'])\n",
    "print('Srednje vreme rada kada radi dva operator :', df_QA[df_QA['broj operatera'] == 2].mean()['work_time by project size'])\n",
    "print('Srednje vreme rada kada radi tri operatora :', df_QA[df_QA['broj operatera'] == 3].mean()['work_time by project size'])\n",
    "print('Srednje vreme rada kada radi vise od tri operatora :', df_QA[df_QA['broj operatera'] > 3].mean()['work_time by project size'])"
   ]
  },
  {
   "cell_type": "code",
   "execution_count": 317,
   "metadata": {},
   "outputs": [
    {
     "data": {
      "text/plain": [
       "Text(0.5, 1.0, 'Kako se povećava vreme rada sa povećanjem broja ljudi na projektu')"
      ]
     },
     "execution_count": 317,
     "metadata": {},
     "output_type": "execute_result"
    },
    {
     "data": {
      "image/png": "[encoded data removed]",
      "text/plain": [
       "<Figure size 1008x720 with 1 Axes>"
      ]
     },
     "metadata": {},
     "output_type": "display_data"
    }
   ],
   "source": [
    "plt.plot([1,2,4], [df_QA[df_QA['broj operatera'] == 1].mean()['work_time by project size'],\n",
    "          df_QA[df_QA['broj operatera'] == 2].mean()['work_time by project size'],\n",
    "         df_QA[df_QA['broj operatera'] > 2].mean()['work_time by project size']])\n",
    "plt.xlabel(\"Broj ljudi koji rade QA\")\n",
    "plt.ylabel(\"Vreme rada (po kvadratu)\")\n",
    "plt.title('Kako se povećava vreme rada sa povećanjem broja ljudi na projektu')"
   ]
  },
  {
   "cell_type": "markdown",
   "metadata": {},
   "source": [
    "### Zaključak \n",
    "- Kada radi više od dva operatera QA vreme projekta eksponencijalno skače, skrenuti im pažnju i zabraniti da radi više od 3"
   ]
  },
  {
   "cell_type": "code",
   "execution_count": 314,
   "metadata": {},
   "outputs": [
    {
     "data": {
      "text/plain": [
       "Text(0, 0.5, 'Broj operatera po projektu')"
      ]
     },
     "execution_count": 314,
     "metadata": {},
     "output_type": "execute_result"
    },
    {
     "data": {
      "image/png": "[encoded data removed]",
      "text/plain": [
       "<Figure size 1008x720 with 1 Axes>"
      ]
     },
     "metadata": {},
     "output_type": "display_data"
    }
   ],
   "source": [
    "#Scatter plot\n",
    "plt.scatter(range(len(df_QA['broj operatera'])), df_QA['broj operatera'])\n",
    "plt.xlabel(\"Index_projekta\")\n",
    "plt.ylabel(\"Broj operatera po projektu\")\n",
    "plt.title('Scatter plot na kom se vidi kolk')"
   ]
  },
  {
   "cell_type": "code",
   "execution_count": 264,
   "metadata": {},
   "outputs": [
    {
     "name": "stdout",
     "output_type": "stream",
     "text": [
      "Od 104 projekata, 3 projekta imaju više od 3 različita operatera za QA.\n",
      "Kako smo videli da vreme projekta raste proporcijonalno sa brojem operatera na njemu,\n",
      "savetujemo da se kontaktiraju ljudi sa sledećih projekata:\n",
      "project_ID:\n",
      "32    IFACNNQMQ1\n",
      "61    aL0ST7jF64\n",
      "77    ibAALs4Kib\n",
      "Name: project id, dtype: object\n"
     ]
    }
   ],
   "source": [
    "print('Od {} projekata, {} projekta imaju više od 3 različita operatera za QA.\\nKako smo videli da vreme projekta raste proporcijonalno sa brojem operatera na njemu,\\nsavetujemo da se kontaktiraju ljudi sa sledećih projekata:'\n",
    "      .format(len(df_QA), len(df_QA[df_QA['broj operatera']>3])))\n",
    "print('project_ID:')\n",
    "print(df_QA[df_QA['broj operatera']>3]['project id'][0:])"
   ]
  },
  {
   "cell_type": "markdown",
   "metadata": {},
   "source": [
    "## 4.3. Analiza None-defined taskova\n",
    "\n",
    "![alt text](Slike/sql_8_.PNG)\n",
    "<i><center>SQL code</center> </i>"
   ]
  },
  {
   "cell_type": "code",
   "execution_count": 443,
   "metadata": {},
   "outputs": [
    {
     "data": {
      "text/html": [
       "<div>\n",
       "<style scoped>\n",
       "    .dataframe tbody tr th:only-of-type {\n",
       "        vertical-align: middle;\n",
       "    }\n",
       "\n",
       "    .dataframe tbody tr th {\n",
       "        vertical-align: top;\n",
       "    }\n",
       "\n",
       "    .dataframe thead th {\n",
       "        text-align: right;\n",
       "    }\n",
       "</style>\n",
       "<table border=\"1\" class=\"dataframe\">\n",
       "  <thead>\n",
       "    <tr style=\"text-align: right;\">\n",
       "      <th></th>\n",
       "      <th>tasks__operator</th>\n",
       "      <th>Task_Name</th>\n",
       "      <th>work_time</th>\n",
       "      <th>broj_put_undefined</th>\n",
       "    </tr>\n",
       "  </thead>\n",
       "  <tbody>\n",
       "    <tr>\n",
       "      <th>12</th>\n",
       "      <td>4LgicHJGyD</td>\n",
       "      <td>Undefined Task</td>\n",
       "      <td>0.012689</td>\n",
       "      <td>4</td>\n",
       "    </tr>\n",
       "    <tr>\n",
       "      <th>0</th>\n",
       "      <td>FcyNpCCzIV</td>\n",
       "      <td>Undefined Task</td>\n",
       "      <td>0.000161</td>\n",
       "      <td>2</td>\n",
       "    </tr>\n",
       "    <tr>\n",
       "      <th>4</th>\n",
       "      <td>cCWb8BDoGc</td>\n",
       "      <td>Undefined Task</td>\n",
       "      <td>0.001359</td>\n",
       "      <td>2</td>\n",
       "    </tr>\n",
       "    <tr>\n",
       "      <th>6</th>\n",
       "      <td>m9rfctjNGR</td>\n",
       "      <td>Undefined Task</td>\n",
       "      <td>0.002193</td>\n",
       "      <td>2</td>\n",
       "    </tr>\n",
       "    <tr>\n",
       "      <th>7</th>\n",
       "      <td>mwMA8zHnCv</td>\n",
       "      <td>Undefined Task</td>\n",
       "      <td>0.002623</td>\n",
       "      <td>2</td>\n",
       "    </tr>\n",
       "  </tbody>\n",
       "</table>\n",
       "</div>"
      ],
      "text/plain": [
       "   tasks__operator       Task_Name  work_time  broj_put_undefined\n",
       "12      4LgicHJGyD  Undefined Task   0.012689                   4\n",
       "0       FcyNpCCzIV  Undefined Task   0.000161                   2\n",
       "4       cCWb8BDoGc  Undefined Task   0.001359                   2\n",
       "6       m9rfctjNGR  Undefined Task   0.002193                   2\n",
       "7       mwMA8zHnCv  Undefined Task   0.002623                   2"
      ]
     },
     "execution_count": 443,
     "metadata": {},
     "output_type": "execute_result"
    }
   ],
   "source": [
    "df_Und = pd.read_csv('Data/3.Undefined.csv')\n",
    "df_Und.sort_values('broj_put_undefined', ascending = False, inplace=True)\n",
    "df_Und.head()"
   ]
  },
  {
   "cell_type": "code",
   "execution_count": 451,
   "metadata": {},
   "outputs": [
    {
     "data": {
      "image/png": "[encoded data removed]",
      "text/plain": [
       "<Figure size 576x576 with 1 Axes>"
      ]
     },
     "metadata": {},
     "output_type": "display_data"
    },
    {
     "name": "stdout",
     "output_type": "stream",
     "text": [
      "Skrenuti pažnju operatru koji je najviše puta radio undefined: 12    4LgicHJGyD\n",
      "Name: tasks__operator, dtype: object \n"
     ]
    }
   ],
   "source": [
    "#Scatter plot\n",
    "fig, ax = plt.subplots(figsize =(8,8))\n",
    "plt.scatter(range(len(df_Und)), df_Und['broj_put_undefined'])\n",
    "plt.ylabel(\"Koliko je puta na istom projektu je neko bio undefined\")\n",
    "plt.title('Scatter plot')\n",
    "plt.show()\n",
    "print('Skrenuti pažnju operatru koji je najviše puta radio undefined: {} '.format(df_Und[df_Und['broj_put_undefined']>3]['tasks__operator']))"
   ]
  },
  {
   "cell_type": "markdown",
   "metadata": {},
   "source": [
    "### 4.3.1. Hipoteza: Projekti sa ljudima koje su najviše bili Undefined duže traju\n",
    "![alt text](Slike/sql_9.PNG)\n",
    "<i><center>SQL code</center> </i>"
   ]
  },
  {
   "cell_type": "code",
   "execution_count": 502,
   "metadata": {},
   "outputs": [
    {
     "data": {
      "text/html": [
       "<div>\n",
       "<style scoped>\n",
       "    .dataframe tbody tr th:only-of-type {\n",
       "        vertical-align: middle;\n",
       "    }\n",
       "\n",
       "    .dataframe tbody tr th {\n",
       "        vertical-align: top;\n",
       "    }\n",
       "\n",
       "    .dataframe thead th {\n",
       "        text-align: right;\n",
       "    }\n",
       "</style>\n",
       "<table border=\"1\" class=\"dataframe\">\n",
       "  <thead>\n",
       "    <tr style=\"text-align: right;\">\n",
       "      <th></th>\n",
       "      <th>id1</th>\n",
       "      <th>work_time_by_livablespace</th>\n",
       "    </tr>\n",
       "  </thead>\n",
       "  <tbody>\n",
       "    <tr>\n",
       "      <th>0</th>\n",
       "      <td>BS4BzvMClR</td>\n",
       "      <td>0.010922</td>\n",
       "    </tr>\n",
       "    <tr>\n",
       "      <th>1</th>\n",
       "      <td>Piv2BAVBjb</td>\n",
       "      <td>0.007409</td>\n",
       "    </tr>\n",
       "    <tr>\n",
       "      <th>2</th>\n",
       "      <td>bvdd8e6v4G</td>\n",
       "      <td>0.011058</td>\n",
       "    </tr>\n",
       "    <tr>\n",
       "      <th>3</th>\n",
       "      <td>df3blK7xCK</td>\n",
       "      <td>0.027926</td>\n",
       "    </tr>\n",
       "    <tr>\n",
       "      <th>4</th>\n",
       "      <td>ibAALs4Kib</td>\n",
       "      <td>0.032630</td>\n",
       "    </tr>\n",
       "  </tbody>\n",
       "</table>\n",
       "</div>"
      ],
      "text/plain": [
       "          id1  work_time_by_livablespace\n",
       "0  BS4BzvMClR                   0.010922\n",
       "1  Piv2BAVBjb                   0.007409\n",
       "2  bvdd8e6v4G                   0.011058\n",
       "3  df3blK7xCK                   0.027926\n",
       "4  ibAALs4Kib                   0.032630"
      ]
     },
     "execution_count": 502,
     "metadata": {},
     "output_type": "execute_result"
    }
   ],
   "source": [
    "df_H1 = pd.read_csv('Data/4.H1.csv')\n",
    "df_H1.head() # isto se koristi work_time po jedinici prostora"
   ]
  },
  {
   "cell_type": "code",
   "execution_count": 505,
   "metadata": {},
   "outputs": [
    {
     "name": "stdout",
     "output_type": "stream",
     "text": [
      "Projekti sa Photo Capture Outlierima traju 66.21% duže nego prosečni projekti\n",
      "HIPOTEZA SE PRIHVATA\n"
     ]
    }
   ],
   "source": [
    "#testirati \n",
    "#Srednje vreme rada projekata gde su operateri sa najviše Undefiend taskova\n",
    "#Srednje vreme rada projekata generalno\n",
    "razlika = df_H1['work_time_by_livablespace'].mean() - df_proj['Vreme_rada_po_velicini_projekta'].mean()\n",
    "print('Projekti sa Photo Capture Outlierima traju {:.2f}% duže nego prosečni projekti'.format(df_proj['Vreme_rada_po_velicini_projekta'].mean()/df_H1['work_time_by_livablespace'].mean()*100))\n",
    "if razlika > 0:\n",
    "    print('HIPOTEZA SE PRIHVATA')\n",
    "else:\n",
    "    print('HIPOTEZA SE NE MOŽE PRIHVATITI')"
   ]
  },
  {
   "cell_type": "markdown",
   "metadata": {},
   "source": [
    "# ZAKLJUČAK\n",
    "- Projektri na kojima rade ljudi sa najviše undefined taskova imaju **66.21% DUŽE** proskečno vreme rada !!"
   ]
  },
  {
   "cell_type": "markdown",
   "metadata": {},
   "source": [
    "# 5. Analiza Alata \n",
    "\n",
    "## 5.1. Photo capture tool\n",
    "![alt text](Slike/sql_10.PNG)\n",
    "<i><center>SQL code</center> </i>"
   ]
  },
  {
   "cell_type": "code",
   "execution_count": 464,
   "metadata": {},
   "outputs": [
    {
     "data": {
      "text/html": [
       "<div>\n",
       "<style scoped>\n",
       "    .dataframe tbody tr th:only-of-type {\n",
       "        vertical-align: middle;\n",
       "    }\n",
       "\n",
       "    .dataframe tbody tr th {\n",
       "        vertical-align: top;\n",
       "    }\n",
       "\n",
       "    .dataframe thead th {\n",
       "        text-align: right;\n",
       "    }\n",
       "</style>\n",
       "<table border=\"1\" class=\"dataframe\">\n",
       "  <thead>\n",
       "    <tr style=\"text-align: right;\">\n",
       "      <th></th>\n",
       "      <th>project id</th>\n",
       "      <th>tasks__operator</th>\n",
       "      <th>Task_Name</th>\n",
       "      <th>photoCaptures</th>\n",
       "      <th>work_time</th>\n",
       "      <th>work_time_by_photocaptures</th>\n",
       "      <th>broj operatera</th>\n",
       "    </tr>\n",
       "  </thead>\n",
       "  <tbody>\n",
       "    <tr>\n",
       "      <th>0</th>\n",
       "      <td>8NuEtWLaH9</td>\n",
       "      <td>loO0gOUSOP</td>\n",
       "      <td>Photo Capture</td>\n",
       "      <td>16</td>\n",
       "      <td>240</td>\n",
       "      <td>15.0</td>\n",
       "      <td>1</td>\n",
       "    </tr>\n",
       "    <tr>\n",
       "      <th>1</th>\n",
       "      <td>HOmh8xguwZ</td>\n",
       "      <td>sjPT3lh2KD</td>\n",
       "      <td>Photo Capture</td>\n",
       "      <td>10</td>\n",
       "      <td>240</td>\n",
       "      <td>24.0</td>\n",
       "      <td>1</td>\n",
       "    </tr>\n",
       "    <tr>\n",
       "      <th>2</th>\n",
       "      <td>Rq1GYMOulj</td>\n",
       "      <td>1u0r08ObeW</td>\n",
       "      <td>Photo Capture</td>\n",
       "      <td>15</td>\n",
       "      <td>480</td>\n",
       "      <td>32.0</td>\n",
       "      <td>1</td>\n",
       "    </tr>\n",
       "    <tr>\n",
       "      <th>3</th>\n",
       "      <td>i4ElfNu4I4</td>\n",
       "      <td>1u0r08ObeW</td>\n",
       "      <td>Photo Capture</td>\n",
       "      <td>15</td>\n",
       "      <td>480</td>\n",
       "      <td>32.0</td>\n",
       "      <td>1</td>\n",
       "    </tr>\n",
       "    <tr>\n",
       "      <th>4</th>\n",
       "      <td>lonfQAhonh</td>\n",
       "      <td>6cSASzlvvZ</td>\n",
       "      <td>Photo Capture</td>\n",
       "      <td>15</td>\n",
       "      <td>540</td>\n",
       "      <td>36.0</td>\n",
       "      <td>1</td>\n",
       "    </tr>\n",
       "  </tbody>\n",
       "</table>\n",
       "</div>"
      ],
      "text/plain": [
       "   project id tasks__operator      Task_Name  photoCaptures  work_time  \\\n",
       "0  8NuEtWLaH9      loO0gOUSOP  Photo Capture             16        240   \n",
       "1  HOmh8xguwZ      sjPT3lh2KD  Photo Capture             10        240   \n",
       "2  Rq1GYMOulj      1u0r08ObeW  Photo Capture             15        480   \n",
       "3  i4ElfNu4I4      1u0r08ObeW  Photo Capture             15        480   \n",
       "4  lonfQAhonh      6cSASzlvvZ  Photo Capture             15        540   \n",
       "\n",
       "   work_time_by_photocaptures  broj operatera  \n",
       "0                        15.0               1  \n",
       "1                        24.0               1  \n",
       "2                        32.0               1  \n",
       "3                        32.0               1  \n",
       "4                        36.0               1  "
      ]
     },
     "execution_count": 464,
     "metadata": {},
     "output_type": "execute_result"
    }
   ],
   "source": [
    "df_photo = pd.read_csv('Data/5.PhotCapture.csv')\n",
    "df_photo.head() # isto se koristi work_time po jedinici prostora"
   ]
  },
  {
   "cell_type": "code",
   "execution_count": 473,
   "metadata": {},
   "outputs": [
    {
     "data": {
      "image/png": "[encoded data removed]",
      "text/plain": [
       "<Figure size 576x576 with 1 Axes>"
      ]
     },
     "metadata": {},
     "output_type": "display_data"
    },
    {
     "name": "stdout",
     "output_type": "stream",
     "text": [
      "Iz plota iznad jasno može da se vidi abnormalnost 3 tačke i kako su predugo radili na alatu\n"
     ]
    }
   ],
   "source": [
    "#Scatter plot\n",
    "fig, ax = plt.subplots(figsize =(8,8))\n",
    "plt.scatter(df_photo['photoCaptures'], df_photo['work_time']/60)\n",
    "plt.ylabel(\"Vreme provedeno [min]\")\n",
    "plt.title('Broj slika')\n",
    "plt.show()\n",
    "print('Iz plota iznad jasno može da se vidi abnormalnost 3 tačke i kako su predugo radili na alatu')"
   ]
  },
  {
   "cell_type": "code",
   "execution_count": 486,
   "metadata": {},
   "outputs": [
    {
     "name": "stdout",
     "output_type": "stream",
     "text": [
      "Skrenuti pažnju sledćim operatorima: ['mm8nYzp800', 'P9o6tGp12k', 'miNAe91tcO']\n"
     ]
    }
   ],
   "source": [
    "df_photo.sort_values('work_time_by_photocaptures', ascending = False, inplace=True)\n",
    "df_photo['tasks__operator'][:3]\n",
    "lista = [i for i in df_photo['tasks__operator'][:3]]\n",
    "print('Skrenuti pažnju sledćim operatorima:', lista)\n",
    "lista_projekata_na_kojima_su_radili = [i for i in df_photo['project id'][:3]]"
   ]
  },
  {
   "cell_type": "code",
   "execution_count": 506,
   "metadata": {},
   "outputs": [
    {
     "name": "stdout",
     "output_type": "stream",
     "text": [
      "Projekti sa outliers (PhotoCapture) ['3axCOOrlSE', 'kL2NhZZs10', 'ibAALs4Kib']\n",
      "Projekti sa Photo Capture Outlierima traju[32.31047247]% duže nego prosečni projekti\n",
      "Razlika srednjih vrednosti duzine trajanja: [0.0223182]\n",
      "HIPOTEZA SE PRIHVATA\n"
     ]
    }
   ],
   "source": [
    "print('Projekti sa outliers (PhotoCapture)', lista_projekata_na_kojima_su_radili)\n",
    "#srednja efikasnost projekata - srednja efikasnost projekta gde rade outliers\n",
    "counter = 0\n",
    "sum_ = 0\n",
    "for proj in lista_projekata_na_kojima_su_radili:\n",
    "    Trajanje_projekta = df_proj[(df_proj['_id'] == proj) ]['Vreme_rada_po_velicini_projekta']\n",
    "    sum_ += np.array(Trajanje_projekta)\n",
    "    counter += 1\n",
    "avg = sum_/counter\n",
    "razlika = avg - df_proj['Vreme_rada_po_velicini_projekta'].mean()\n",
    "print('Projekti sa Photo Capture Outlierima traju{}% duže nego prosečni projekti'.format(df_proj['Vreme_rada_po_velicini_projekta'].mean()/avg*100))\n",
    "print('Razlika srednjih vrednosti duzine trajanja:', razlika)\n",
    "if razlika > 0:\n",
    "    print('HIPOTEZA SE PRIHVATA')\n",
    "else:\n",
    "    print('HIPOTEZA SE NE MOŽE PRIHVATITI')\n"
   ]
  },
  {
   "cell_type": "markdown",
   "metadata": {},
   "source": [
    "## ZAKLJUČAK:\n",
    "- Projekti na kojima se zloupotrebljava alat PHOTO CAPURE traju **32% DUŽE** nego ostali projekti !!"
   ]
  },
  {
   "cell_type": "markdown",
   "metadata": {},
   "source": [
    "# Rezime\n",
    "\n",
    "-  Saznali smo u  kom intervalu ih isporucujemo projekte (Sekcija 2)\n",
    "-  Saznali smo ko su nam najproduktivniji,ispratili brzinu i kvantifikovali kvalitet njihovog rada (Sekcija 3.2.)\n",
    "-  Detaljno analizarali pojedinačne taskove i saznali da kada radi više ljudi na istom tasku drastično raste vreme proejkta (Sekcija 4.)\n",
    "-  Saznali da ljudi koji rade sa Undifened taskom često, projekti na kojima rade traju drastično duže, 65% (Sekcija 4.3.1.)\n",
    "-  Saznali kako se koriste alati i saznali da ljudi koji ih zloupotrebljavaju projekti se oduže (u slučaju alat PHOTO CAPURE ) i traju 32% DUŽE nego ostali projekti (Sekcija 5.)"
   ]
  }
 ],
 "metadata": {
  "kernelspec": {
   "display_name": "Python 3.6.10 64-bit ('master_rad': conda)",
   "language": "python",
   "name": "python361064bitmasterradconda11e2bed3bf6e4dcb805855047fbeb585"
  },
  "language_info": {
   "codemirror_mode": {
    "name": "ipython",
    "version": 3
   },
   "file_extension": ".py",
   "mimetype": "text/x-python",
   "name": "python",
   "nbconvert_exporter": "python",
   "pygments_lexer": "ipython3",
   "version": "3.6.12"
  }
 },
 "nbformat": 4,
 "nbformat_minor": 4
}
